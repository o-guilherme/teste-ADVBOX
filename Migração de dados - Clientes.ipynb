{
 "cells": [
  {
   "cell_type": "markdown",
   "id": "cf5cdfd6-2bc0-4b65-a0f7-1ddbdb416aa9",
   "metadata": {},
   "source": [
    "# PROCESSAMENTO DA TABELA CLIENTES"
   ]
  },
  {
   "cell_type": "code",
   "execution_count": 1,
   "id": "37ac8de5-8632-4307-bc24-1785be4ed0e5",
   "metadata": {},
   "outputs": [],
   "source": [
    "#instala módulos utilizados\n",
    "#!pip install chardet\n",
    "#!pip install openpyxl"
   ]
  },
  {
   "cell_type": "code",
   "execution_count": 2,
   "id": "f8bda5c7-ff64-45f2-9286-7c72fb6b28c6",
   "metadata": {},
   "outputs": [],
   "source": [
    "from collections import Counter\n",
    "from datetime import datetime\n",
    "import chardet\n",
    "import numpy as np\n",
    "import os\n",
    "import pandas as pd\n",
    "import re"
   ]
  },
  {
   "cell_type": "markdown",
   "id": "04527c95-6757-4943-ba65-8b6e82334b5d",
   "metadata": {},
   "source": [
    "### Definição de dados"
   ]
  },
  {
   "cell_type": "code",
   "execution_count": 3,
   "id": "817cacc7-438f-403b-8e81-c82fa39b6a9a",
   "metadata": {},
   "outputs": [],
   "source": [
    "#Diretório da pasta com os dados do escritório\n",
    "pasta_dados = ('./backup_de_dados/')\n",
    "#Código do cliente que será atualizado\n",
    "#Esse valor é o campo CodEmpresa nos arquivos\n",
    "cod_cliente_advbox = 92577"
   ]
  },
  {
   "cell_type": "code",
   "execution_count": 4,
   "id": "5ec96c0e-8a41-4874-b7b7-f706cadd7080",
   "metadata": {},
   "outputs": [],
   "source": [
    "def detectar_codificacao(caminho_arquivo):\n",
    "    with open(caminho_arquivo, \"rb\") as f:\n",
    "        resultado = chardet.detect(f.read())\n",
    "        return resultado[\"encoding\"]"
   ]
  },
  {
   "cell_type": "code",
   "execution_count": 5,
   "id": "ff6ede81-3589-4d16-affc-8a41fdb242d1",
   "metadata": {},
   "outputs": [],
   "source": [
    "def carrega_csv(arquivo):\n",
    "    codificacao = detectar_codificacao(arquivo)\n",
    "    return pd.read_csv(arquivo, delimiter=';',encoding=codificacao)"
   ]
  },
  {
   "cell_type": "markdown",
   "id": "084215a1-5844-4f6c-8550-0cece5e2edb8",
   "metadata": {},
   "source": [
    "### Carregamento das tabelas"
   ]
  },
  {
   "cell_type": "code",
   "execution_count": 6,
   "id": "4adf0438-d07c-4f7d-a762-0248acf707ed",
   "metadata": {},
   "outputs": [],
   "source": [
    "padrao_backup = re.compile(\n",
    "    r\"v_(.*?)_CodEmpresa_\" + \n",
    "    re.escape(str(cod_cliente_advbox)) + \n",
    "    r\"\\.csv\")"
   ]
  },
  {
   "cell_type": "code",
   "execution_count": 7,
   "id": "790e2953-ba18-45ff-82ac-97f331add357",
   "metadata": {},
   "outputs": [],
   "source": [
    "tabelas = {}\n",
    "for arquivo in os.listdir(pasta_dados):\n",
    "    if padrao_backup.match(arquivo):\n",
    "        tabelas[padrao_backup.match(arquivo).group(1)]= carrega_csv(pasta_dados+arquivo)"
   ]
  },
  {
   "cell_type": "code",
   "execution_count": 8,
   "id": "e11ecbac-8c3d-4ad3-af7e-84398180b5ae",
   "metadata": {},
   "outputs": [
    {
     "data": {
      "text/plain": [
       "32"
      ]
     },
     "execution_count": 8,
     "metadata": {},
     "output_type": "execute_result"
    }
   ],
   "source": [
    "len(tabelas)"
   ]
  },
  {
   "cell_type": "code",
   "execution_count": 9,
   "id": "77c1bfa8-e858-498f-9355-1d71ba19b6b4",
   "metadata": {},
   "outputs": [
    {
     "data": {
      "text/html": [
       "<div>\n",
       "<style scoped>\n",
       "    .dataframe tbody tr th:only-of-type {\n",
       "        vertical-align: middle;\n",
       "    }\n",
       "\n",
       "    .dataframe tbody tr th {\n",
       "        vertical-align: top;\n",
       "    }\n",
       "\n",
       "    .dataframe thead th {\n",
       "        text-align: right;\n",
       "    }\n",
       "</style>\n",
       "<table border=\"1\" class=\"dataframe\">\n",
       "  <thead>\n",
       "    <tr style=\"text-align: right;\">\n",
       "      <th></th>\n",
       "      <th>codigo</th>\n",
       "      <th>codempresa</th>\n",
       "      <th>codigo_administrativo</th>\n",
       "      <th>codigo_unit</th>\n",
       "      <th>razao_social</th>\n",
       "      <th>nome_fantasia</th>\n",
       "      <th>responsavel</th>\n",
       "      <th>cnpj</th>\n",
       "      <th>contato_nome</th>\n",
       "      <th>contato_ddd1</th>\n",
       "      <th>...</th>\n",
       "      <th>campo_livre2</th>\n",
       "      <th>cod_campo_livre2</th>\n",
       "      <th>cod_terceiro_categoria</th>\n",
       "      <th>numero_pasta</th>\n",
       "      <th>migracao_parceiro</th>\n",
       "      <th>cod_cliente_estado_civil</th>\n",
       "      <th>cod_usuario</th>\n",
       "      <th>cod_estado_brasil</th>\n",
       "      <th>migracao3</th>\n",
       "      <th>cod_escolaridade</th>\n",
       "    </tr>\n",
       "  </thead>\n",
       "  <tbody>\n",
       "    <tr>\n",
       "      <th>0</th>\n",
       "      <td>106207729</td>\n",
       "      <td>92577</td>\n",
       "      <td>None</td>\n",
       "      <td>0</td>\n",
       "      <td>Fulano(a) 1</td>\n",
       "      <td>None</td>\n",
       "      <td>None</td>\n",
       "      <td>None</td>\n",
       "      <td>None</td>\n",
       "      <td>None</td>\n",
       "      <td>...</td>\n",
       "      <td>None</td>\n",
       "      <td>None</td>\n",
       "      <td>None</td>\n",
       "      <td>1367.0</td>\n",
       "      <td>None</td>\n",
       "      <td>None</td>\n",
       "      <td>None</td>\n",
       "      <td>None</td>\n",
       "      <td>None</td>\n",
       "      <td>None</td>\n",
       "    </tr>\n",
       "    <tr>\n",
       "      <th>1</th>\n",
       "      <td>106206605</td>\n",
       "      <td>92577</td>\n",
       "      <td>None</td>\n",
       "      <td>0</td>\n",
       "      <td>Fulano(a) 2</td>\n",
       "      <td>None</td>\n",
       "      <td>None</td>\n",
       "      <td>None</td>\n",
       "      <td>None</td>\n",
       "      <td>None</td>\n",
       "      <td>...</td>\n",
       "      <td>None</td>\n",
       "      <td>None</td>\n",
       "      <td>None</td>\n",
       "      <td>1366.0</td>\n",
       "      <td>None</td>\n",
       "      <td>None</td>\n",
       "      <td>None</td>\n",
       "      <td>None</td>\n",
       "      <td>None</td>\n",
       "      <td>None</td>\n",
       "    </tr>\n",
       "    <tr>\n",
       "      <th>2</th>\n",
       "      <td>8897738</td>\n",
       "      <td>92577</td>\n",
       "      <td>None</td>\n",
       "      <td>0</td>\n",
       "      <td>Fulano(a) 3</td>\n",
       "      <td>None</td>\n",
       "      <td>None</td>\n",
       "      <td>None</td>\n",
       "      <td>None</td>\n",
       "      <td>None</td>\n",
       "      <td>...</td>\n",
       "      <td>None</td>\n",
       "      <td>7461.0</td>\n",
       "      <td>None</td>\n",
       "      <td>341.0</td>\n",
       "      <td>None</td>\n",
       "      <td>None</td>\n",
       "      <td>None</td>\n",
       "      <td>None</td>\n",
       "      <td>None</td>\n",
       "      <td>None</td>\n",
       "    </tr>\n",
       "    <tr>\n",
       "      <th>3</th>\n",
       "      <td>5251301</td>\n",
       "      <td>92577</td>\n",
       "      <td>None</td>\n",
       "      <td>0</td>\n",
       "      <td>Fulano(a) 4</td>\n",
       "      <td>None</td>\n",
       "      <td>None</td>\n",
       "      <td>None</td>\n",
       "      <td>None</td>\n",
       "      <td>None</td>\n",
       "      <td>...</td>\n",
       "      <td>None</td>\n",
       "      <td>6280.0</td>\n",
       "      <td>None</td>\n",
       "      <td>160.0</td>\n",
       "      <td>None</td>\n",
       "      <td>None</td>\n",
       "      <td>None</td>\n",
       "      <td>None</td>\n",
       "      <td>None</td>\n",
       "      <td>None</td>\n",
       "    </tr>\n",
       "    <tr>\n",
       "      <th>4</th>\n",
       "      <td>13203419</td>\n",
       "      <td>92577</td>\n",
       "      <td>None</td>\n",
       "      <td>0</td>\n",
       "      <td>Fulano(a) 5</td>\n",
       "      <td>None</td>\n",
       "      <td>None</td>\n",
       "      <td>None</td>\n",
       "      <td>Jana</td>\n",
       "      <td>None</td>\n",
       "      <td>...</td>\n",
       "      <td>None</td>\n",
       "      <td>6280.0</td>\n",
       "      <td>None</td>\n",
       "      <td>560.0</td>\n",
       "      <td>None</td>\n",
       "      <td>None</td>\n",
       "      <td>None</td>\n",
       "      <td>None</td>\n",
       "      <td>None</td>\n",
       "      <td>None</td>\n",
       "    </tr>\n",
       "  </tbody>\n",
       "</table>\n",
       "<p>5 rows × 83 columns</p>\n",
       "</div>"
      ],
      "text/plain": [
       "      codigo  codempresa codigo_administrativo  codigo_unit razao_social  \\\n",
       "0  106207729       92577                  None            0  Fulano(a) 1   \n",
       "1  106206605       92577                  None            0  Fulano(a) 2   \n",
       "2    8897738       92577                  None            0  Fulano(a) 3   \n",
       "3    5251301       92577                  None            0  Fulano(a) 4   \n",
       "4   13203419       92577                  None            0  Fulano(a) 5   \n",
       "\n",
       "  nome_fantasia responsavel  cnpj contato_nome contato_ddd1  ... campo_livre2  \\\n",
       "0          None        None  None         None         None  ...         None   \n",
       "1          None        None  None         None         None  ...         None   \n",
       "2          None        None  None         None         None  ...         None   \n",
       "3          None        None  None         None         None  ...         None   \n",
       "4          None        None  None         Jana         None  ...         None   \n",
       "\n",
       "  cod_campo_livre2 cod_terceiro_categoria numero_pasta migracao_parceiro  \\\n",
       "0             None                   None       1367.0              None   \n",
       "1             None                   None       1366.0              None   \n",
       "2           7461.0                   None        341.0              None   \n",
       "3           6280.0                   None        160.0              None   \n",
       "4           6280.0                   None        560.0              None   \n",
       "\n",
       "  cod_cliente_estado_civil cod_usuario cod_estado_brasil migracao3  \\\n",
       "0                     None        None              None      None   \n",
       "1                     None        None              None      None   \n",
       "2                     None        None              None      None   \n",
       "3                     None        None              None      None   \n",
       "4                     None        None              None      None   \n",
       "\n",
       "  cod_escolaridade  \n",
       "0             None  \n",
       "1             None  \n",
       "2             None  \n",
       "3             None  \n",
       "4             None  \n",
       "\n",
       "[5 rows x 83 columns]"
      ]
     },
     "execution_count": 9,
     "metadata": {},
     "output_type": "execute_result"
    }
   ],
   "source": [
    "df = tabelas['clientes']\n",
    "df.replace({np.nan: None},inplace=True)\n",
    "df.head()"
   ]
  },
  {
   "cell_type": "code",
   "execution_count": 10,
   "id": "6c503a87-b1b7-4b48-b949-3a6072cab6c4",
   "metadata": {},
   "outputs": [
    {
     "name": "stdout",
     "output_type": "stream",
     "text": [
      "A tabela clientes possui 1828 linhas e 83 colunas.\n"
     ]
    }
   ],
   "source": [
    "print(f\"A tabela clientes possui {df.shape[0]} linhas e {df.shape[1]} colunas.\")"
   ]
  },
  {
   "cell_type": "markdown",
   "id": "272b45cc-b50f-4da1-8b95-5c57a7e6fae1",
   "metadata": {},
   "source": [
    "Criando os dataframe dos clientes"
   ]
  },
  {
   "cell_type": "code",
   "execution_count": 11,
   "id": "6c9908cc-b0a6-414c-9be3-01227bd064b3",
   "metadata": {},
   "outputs": [],
   "source": [
    "df_clientes=pd.DataFrame(columns=[\n",
    "    'nomeCliente',\n",
    "    'cpfcnpj',\n",
    "    'rg',\n",
    "    'nacionalidade',\n",
    "    'dataDeNascimento',\n",
    "    'estadoCivil',\n",
    "    'profissao',\n",
    "    'sexo',\n",
    "    'celular',\n",
    "    'telefone',\n",
    "    'email',\n",
    "    'pais',\n",
    "    'estado',\n",
    "    'cidade',\n",
    "    'bairro',\n",
    "    'endereco',\n",
    "    'cep',\n",
    "    'pispasep',\n",
    "    'ctps',\n",
    "    'cid',\n",
    "    'nomemae',\n",
    "    'origem',\n",
    "    'anotacoesGerais'])"
   ]
  },
  {
   "cell_type": "code",
   "execution_count": 12,
   "id": "19baa63b-a7af-4791-a5cb-34880c9dfedf",
   "metadata": {},
   "outputs": [
    {
     "data": {
      "text/html": [
       "<div>\n",
       "<style scoped>\n",
       "    .dataframe tbody tr th:only-of-type {\n",
       "        vertical-align: middle;\n",
       "    }\n",
       "\n",
       "    .dataframe tbody tr th {\n",
       "        vertical-align: top;\n",
       "    }\n",
       "\n",
       "    .dataframe thead th {\n",
       "        text-align: right;\n",
       "    }\n",
       "</style>\n",
       "<table border=\"1\" class=\"dataframe\">\n",
       "  <thead>\n",
       "    <tr style=\"text-align: right;\">\n",
       "      <th></th>\n",
       "      <th>nomeCliente</th>\n",
       "      <th>cpfcnpj</th>\n",
       "      <th>rg</th>\n",
       "      <th>nacionalidade</th>\n",
       "      <th>dataDeNascimento</th>\n",
       "      <th>estadoCivil</th>\n",
       "      <th>profissao</th>\n",
       "      <th>sexo</th>\n",
       "      <th>celular</th>\n",
       "      <th>telefone</th>\n",
       "      <th>...</th>\n",
       "      <th>cidade</th>\n",
       "      <th>bairro</th>\n",
       "      <th>endereco</th>\n",
       "      <th>cep</th>\n",
       "      <th>pispasep</th>\n",
       "      <th>ctps</th>\n",
       "      <th>cid</th>\n",
       "      <th>nomemae</th>\n",
       "      <th>origem</th>\n",
       "      <th>anotacoesGerais</th>\n",
       "    </tr>\n",
       "  </thead>\n",
       "  <tbody>\n",
       "  </tbody>\n",
       "</table>\n",
       "<p>0 rows × 23 columns</p>\n",
       "</div>"
      ],
      "text/plain": [
       "Empty DataFrame\n",
       "Columns: [nomeCliente, cpfcnpj, rg, nacionalidade, dataDeNascimento, estadoCivil, profissao, sexo, celular, telefone, email, pais, estado, cidade, bairro, endereco, cep, pispasep, ctps, cid, nomemae, origem, anotacoesGerais]\n",
       "Index: []\n",
       "\n",
       "[0 rows x 23 columns]"
      ]
     },
     "execution_count": 12,
     "metadata": {},
     "output_type": "execute_result"
    }
   ],
   "source": [
    "df_clientes"
   ]
  },
  {
   "cell_type": "markdown",
   "id": "8f563e78-3f9c-4ec8-9d74-d10a844ff3b3",
   "metadata": {},
   "source": [
    "### Verificando entradas duplicadas"
   ]
  },
  {
   "cell_type": "code",
   "execution_count": 13,
   "id": "4f632b33-d415-4d2b-ac5e-1e0457f9e448",
   "metadata": {},
   "outputs": [
    {
     "name": "stdout",
     "output_type": "stream",
     "text": [
      "Número de entradas duplicadas na tabela: 21.\n"
     ]
    }
   ],
   "source": [
    "print(f\"Número de entradas duplicadas na tabela: {df.duplicated(subset='codigo').sum()}.\")"
   ]
  },
  {
   "cell_type": "code",
   "execution_count": 14,
   "id": "e2b1e8b7-1918-4132-a77d-6b1b49f2c508",
   "metadata": {},
   "outputs": [],
   "source": [
    "df.drop_duplicates(subset='codigo', keep='first', inplace=True, ignore_index=True)"
   ]
  },
  {
   "cell_type": "markdown",
   "id": "be77e607-585e-4821-989e-37c78b2fcd7b",
   "metadata": {},
   "source": [
    "### Verificando nomes duplicados"
   ]
  },
  {
   "cell_type": "code",
   "execution_count": 15,
   "id": "d3fba716-bae2-4a5b-aaf3-9ced0d7fa240",
   "metadata": {},
   "outputs": [
    {
     "name": "stdout",
     "output_type": "stream",
     "text": [
      "Número de linhas restantes: 1807.\n"
     ]
    }
   ],
   "source": [
    "print(f\"Número de linhas restantes: {df.shape[0]}.\")"
   ]
  },
  {
   "cell_type": "code",
   "execution_count": 16,
   "id": "480285fd-6720-4b91-a3ca-e1df7e281b5f",
   "metadata": {},
   "outputs": [
    {
     "name": "stdout",
     "output_type": "stream",
     "text": [
      "Número de nomes sem duplicados restantes: 1807.\n"
     ]
    }
   ],
   "source": [
    "print(f\"Número de nomes sem duplicados restantes: {len(df['razao_social'].unique())}.\")"
   ]
  },
  {
   "cell_type": "markdown",
   "id": "4df11d78-f7fd-445d-849f-521b8f390ed9",
   "metadata": {},
   "source": [
    "Não restam nomes duplicados."
   ]
  },
  {
   "cell_type": "markdown",
   "id": "b50546dd-5573-43ba-801c-3914a247ca89",
   "metadata": {},
   "source": [
    "## Verificando campo CPF"
   ]
  },
  {
   "cell_type": "code",
   "execution_count": 17,
   "id": "b755ddca-e9b7-468f-b65a-e6c4410b7b23",
   "metadata": {},
   "outputs": [
    {
     "name": "stdout",
     "output_type": "stream",
     "text": [
      "Número de linhas com o CPF ou o CNPJ preenchidos ao mesmo tempo: 0.\n"
     ]
    }
   ],
   "source": [
    "resultados = 0\n",
    "for index, row in df.iterrows():\n",
    "    valor_col1 = row['cnpj']\n",
    "    valor_col2 = row['cpf']\n",
    "    if pd.isna(valor_col1) and pd.isna(valor_col2):\n",
    "        pass\n",
    "    elif pd.isna(valor_col1) or pd.isna(valor_col2):\n",
    "        pass\n",
    "    else:\n",
    "        resultados + 1\n",
    "print(f\"Número de linhas com o CPF ou o CNPJ preenchidos ao mesmo tempo: {resultados}.\")"
   ]
  },
  {
   "cell_type": "code",
   "execution_count": 18,
   "id": "c2d9703a-5d4c-4281-9423-741e9d74f075",
   "metadata": {},
   "outputs": [],
   "source": [
    "def combinar_cpf_cnpj(row):\n",
    "    if row['cpf'] is not None:\n",
    "        return row['cpf']\n",
    "    elif row['cnpj'] is not None:\n",
    "        return row['cnpj']\n",
    "    return None\n",
    "df['cpfcnpjcombinado'] = df.apply(combinar_cpf_cnpj, axis=1)"
   ]
  },
  {
   "cell_type": "code",
   "execution_count": 19,
   "id": "37ad7816-a1ff-4c20-8533-27c1f297367e",
   "metadata": {},
   "outputs": [],
   "source": [
    "def processar_cpf_cnpj(row):\n",
    "    coluna1 = ''.join(filter(str.isdigit, str(row['cpf_cnpj'])))\n",
    "    coluna2 = ''.join(filter(str.isdigit, str(row['cpfcnpjcombinado'])))\n",
    "    if not coluna1:\n",
    "        return coluna2, None\n",
    "    if not coluna2:\n",
    "        return coluna1, None\n",
    "    if row['cliente'] == 'FI':\n",
    "        coluna1.zfill(11)\n",
    "        coluna2.zfill(11)\n",
    "    else:\n",
    "        coluna1.zfill(14)\n",
    "        coluna2.zfill(14)\n",
    "    if coluna1 == coluna2:\n",
    "        return coluna1, None\n",
    "    return coluna1, coluna2"
   ]
  },
  {
   "cell_type": "code",
   "execution_count": 20,
   "id": "3e5c01bd-60c3-4142-b796-5b7820b66b90",
   "metadata": {},
   "outputs": [
    {
     "name": "stdout",
     "output_type": "stream",
     "text": [
      "Número de linhas que possuiam valores de CPF ou CNPJ divergentes: 0.\n"
     ]
    }
   ],
   "source": [
    "df[['cpfCnpjfinal', 'valorCpfCNPJDivergente']] = df.apply(processar_cpf_cnpj, axis=1, result_type='expand')\n",
    "print(f\"Número de linhas que possuiam valores de CPF ou CNPJ divergentes: {tabelas['clientes']['valorCpfCNPJDivergente'].sum()}.\")"
   ]
  },
  {
   "cell_type": "code",
   "execution_count": 21,
   "id": "63e25bee-de47-46e0-961a-d2144ec6b1de",
   "metadata": {},
   "outputs": [],
   "source": [
    "def validar_documento(documento):\n",
    "    documento = ''.join(filter(str.isdigit, str(documento)))\n",
    "    if len(documento) < 11:\n",
    "        documento = documento.zfill(11)\n",
    "        tipo = 'cpf'\n",
    "    elif len(documento) == 11:\n",
    "        tipo = 'cpf'\n",
    "    elif len(documento) <= 14:\n",
    "        documento = documento.zfill(14)\n",
    "        tipo = 'cnpj'\n",
    "    elif len(documento) > 14:\n",
    "        return None, documento\n",
    "    if tipo == 'cpf':\n",
    "        if len(documento) != 11 or documento == documento[0] * 11:\n",
    "            return None, documento\n",
    "        soma1 = sum(int(documento[i]) * (10 - i) for i in range(9))\n",
    "        resto1 = soma1 % 11\n",
    "        digito1 = 0 if resto1 < 2 else 11 - resto1\n",
    "        soma2 = sum(int(documento[i]) * (11 - i) for i in range(10))\n",
    "        resto2 = soma2 % 11\n",
    "        digito2 = 0 if resto2 < 2 else 11 - resto2\n",
    "        if documento[-2:] == f'{digito1}{digito2}':\n",
    "            return documento[:3] + documento[3:6] + documento[6:9] + documento[9:], None\n",
    "        else:\n",
    "            return None, documento\n",
    "    if tipo == 'cnpj':\n",
    "        if len(documento) != 14 or documento == documento[0] * 14:\n",
    "            return None, documento\n",
    "        pesos1 = [5, 4, 3, 2, 9, 8, 7, 6, 5, 4, 3, 2]\n",
    "        soma1 = sum(int(documento[i]) * pesos1[i] for i in range(12))\n",
    "        resto1 = soma1 % 11\n",
    "        digito1 = 0 if resto1 < 2 else 11 - resto1\n",
    "        pesos2 = [6, 5, 4, 3, 2, 9, 8, 7, 6, 5, 4, 3, 2]\n",
    "        soma2 = sum(int(documento[i]) * pesos2[i] for i in range(13))\n",
    "        resto2 = soma2 % 11\n",
    "        digito2 = 0 if resto2 < 2 else 11 - resto2\n",
    "        if documento[-2:] == f'{digito1}{digito2}':\n",
    "            return documento[:2] + documento[2:5] + documento[5:8] + documento[8:12] + documento[12:], None\n",
    "        else:\n",
    "            return None, documento"
   ]
  },
  {
   "cell_type": "code",
   "execution_count": 22,
   "id": "d85f0cd7-5d7b-4392-aaa2-1b900aa7b11d",
   "metadata": {},
   "outputs": [],
   "source": [
    "df[['CPFCNPJ', 'CPFCNPJ_invalido']] = df['cpfCnpjfinal'].apply(lambda x: pd.Series(validar_documento(x)))"
   ]
  },
  {
   "cell_type": "markdown",
   "id": "865aa7f4-f1ea-4aaf-afe4-d2067a3e307f",
   "metadata": {},
   "source": [
    "## Campo RG\n",
    "\n",
    "Campo RG é igual ao de entrada"
   ]
  },
  {
   "cell_type": "markdown",
   "id": "514d2906-b401-4802-bd27-8d0a793ed67d",
   "metadata": {},
   "source": [
    "## Campo Nacionalidade"
   ]
  },
  {
   "cell_type": "code",
   "execution_count": 23,
   "id": "9e5f32a2-c2f2-406b-ab7e-6fb65748e70e",
   "metadata": {},
   "outputs": [
    {
     "name": "stdout",
     "output_type": "stream",
     "text": [
      "['Brasileiro' 'Brasileira' 'brasileira' None 'Brasileria' 'brasileiro'\n",
      " 'Brasileiira' 'Brasielira' 'Brsaileira' 'Brasilira' 'Brasiliero'\n",
      " 'Brsileiro' 'Brasiliera' 'Brasilieira' 'Braisleira' 'BRASILEIRA'\n",
      " 'BRASILEIRO' 'braileira']\n"
     ]
    }
   ],
   "source": [
    "print(df['nacionalidade'].unique())"
   ]
  },
  {
   "cell_type": "markdown",
   "id": "445eab1b-6af2-4256-977d-f78789e39a13",
   "metadata": {},
   "source": [
    "Todas as nacionalidades são brasileiras, apesar dos erros de digitação"
   ]
  },
  {
   "cell_type": "code",
   "execution_count": 24,
   "id": "1123e3da-fcd1-4630-b666-bcbeb0d176e1",
   "metadata": {},
   "outputs": [],
   "source": [
    "df['nacionalidade'] = df['nacionalidade'].apply(lambda x: 'Brasileira' if x is not None else x)"
   ]
  },
  {
   "cell_type": "markdown",
   "id": "fb68927b-c780-4ab7-ac53-3b264fdb5680",
   "metadata": {},
   "source": [
    "## Campo data de nascimento"
   ]
  },
  {
   "cell_type": "code",
   "execution_count": 25,
   "id": "a76a5e42-c11e-425e-aff2-6eec13d26074",
   "metadata": {},
   "outputs": [],
   "source": [
    "#Converte as datas de nascimento para o formato solicitado\n",
    "df['nascimento'] = pd.to_datetime(df['nascimento'], format='%d/%m/%Y %H:%M')\n",
    "df['nascimento']= df['nascimento'].dt.strftime('%d/%m/%Y')"
   ]
  },
  {
   "cell_type": "markdown",
   "id": "93ab8b81-2033-47ca-af6e-11e57d5bc5ef",
   "metadata": {},
   "source": [
    "### Campo estado civil\n",
    "Os identificadores estão na tabela cliente_estado_civil, porém foi solicitado para deixar como está."
   ]
  },
  {
   "cell_type": "markdown",
   "id": "59936f17-14fe-48d3-b5b2-7963ffda8522",
   "metadata": {},
   "source": [
    "### Campo profissão\n",
    "Será mantida como está"
   ]
  },
  {
   "cell_type": "markdown",
   "id": "c76f7486-0693-4220-8eb4-9e9bcc5861cd",
   "metadata": {},
   "source": [
    "### Campo Sexo\n",
    "Não há informações no cadastro de clientes que permitam inferir o sexo. Será deixado vazio."
   ]
  },
  {
   "cell_type": "markdown",
   "id": "43616340-bda1-46e6-89eb-1e01d8902160",
   "metadata": {},
   "source": [
    "### Campo Celular\n",
    "Analisando os dados, o campo telefone2 é o que possui os números de celular"
   ]
  },
  {
   "cell_type": "code",
   "execution_count": 26,
   "id": "f46040a4-42a9-4666-89d5-95c3b9765d56",
   "metadata": {},
   "outputs": [],
   "source": [
    "def contar_algarismos_por_entrada(dataframe, coluna):\n",
    "    contagem_algarismos = []\n",
    "    for entrada in dataframe[coluna]:\n",
    "        apenas_numeros = ''.join(filter(str.isdigit, str(entrada)))\n",
    "        if apenas_numeros:\n",
    "            contagem_algarismos.append(len(apenas_numeros))\n",
    "    contador = Counter(contagem_algarismos)\n",
    "    resultado = \",\".join(f\"{k}:{v}\" for k, v in sorted(contador.items()))\n",
    "    return resultado"
   ]
  },
  {
   "cell_type": "code",
   "execution_count": 27,
   "id": "29fd9b47-974f-4045-9c99-1f0655ba3c54",
   "metadata": {},
   "outputs": [
    {
     "name": "stdout",
     "output_type": "stream",
     "text": [
      "10:1635\n"
     ]
    }
   ],
   "source": [
    "print(contar_algarismos_por_entrada(df, 'telefone2'))"
   ]
  },
  {
   "cell_type": "markdown",
   "id": "73b36a9b-0910-4356-9dc5-ae21bfedecb3",
   "metadata": {},
   "source": [
    "Todos os resultados possuem apenas 10 dígitos."
   ]
  },
  {
   "cell_type": "code",
   "execution_count": 28,
   "id": "c59dc49e-00d2-4100-a975-fe68bd425900",
   "metadata": {},
   "outputs": [],
   "source": [
    "df['celular'] = df['telefone2'].apply(\n",
    "    lambda x: None if not x or not (numeros := ''.join(filter(str.isdigit, str(x)))) \n",
    "              else f\"({numeros[:2]}) {numeros[2:6]}-{numeros[6:]}\")"
   ]
  },
  {
   "cell_type": "markdown",
   "id": "23e36b38-81a0-4615-94a0-7dc3aae46a1a",
   "metadata": {},
   "source": [
    "### Campo Telefone\n",
    "telefone1 ou telefone3, o que estiver preenchido"
   ]
  },
  {
   "cell_type": "code",
   "execution_count": 29,
   "id": "4b894da3-e6ad-4cdd-b900-ded3d44134bd",
   "metadata": {},
   "outputs": [
    {
     "name": "stdout",
     "output_type": "stream",
     "text": [
      "10:1007\n"
     ]
    }
   ],
   "source": [
    "print(contar_algarismos_por_entrada(df, 'telefone1'))"
   ]
  },
  {
   "cell_type": "code",
   "execution_count": 30,
   "id": "bb0f3d39-e060-4b88-857d-8e7b61646930",
   "metadata": {},
   "outputs": [
    {
     "name": "stdout",
     "output_type": "stream",
     "text": [
      "10:630\n"
     ]
    }
   ],
   "source": [
    "print(contar_algarismos_por_entrada(df, 'telefone3'))"
   ]
  },
  {
   "cell_type": "markdown",
   "id": "b5314b55-29b0-488d-8f7a-7eca47a4aea2",
   "metadata": {},
   "source": [
    "Ambos os campos de telefone possuem 10 algarismos, então não há necessidade de realizar formatações adicionais."
   ]
  },
  {
   "cell_type": "code",
   "execution_count": 31,
   "id": "2b741549-82e7-4810-bf45-6b6d406a34b5",
   "metadata": {},
   "outputs": [],
   "source": [
    "df['telefone'] = df.apply(\n",
    "    lambda row: (\n",
    "        f\"({(numeros := ''.join(filter(str.isdigit, str(row['telefone1']))))[:2]}) {numeros[2:6]}-{numeros[6:]}\"\n",
    "        if row['telefone1'] and (numeros := ''.join(filter(str.isdigit, str(row['telefone1']))))\n",
    "        else (\n",
    "            f\"({(numeros := ''.join(filter(str.isdigit, str(row['telefone3']))))[:2]}) {numeros[2:6]}-{numeros[6:]}\"\n",
    "            if row['telefone3'] and (numeros := ''.join(filter(str.isdigit, str(row['telefone3']))))\n",
    "            else None)),axis=1)"
   ]
  },
  {
   "cell_type": "markdown",
   "id": "b4b958eb-b6c3-45fa-a0f5-93f6223adba7",
   "metadata": {},
   "source": [
    "### Campo email\n",
    "Qualquer um. Se houver mais de um vai para anotações gerais."
   ]
  },
  {
   "cell_type": "code",
   "execution_count": 32,
   "id": "16bd41b5-59fe-43bf-9cb9-fe254d402018",
   "metadata": {},
   "outputs": [],
   "source": [
    "df['email'] = df.apply(\n",
    "    lambda row: row['email1'] if row['email1'] else row['email2'], axis=1)\n",
    "df['email_extra'] = df.apply(\n",
    "    lambda row: row['email2'] if row['email1'] else None, axis=1)"
   ]
  },
  {
   "cell_type": "markdown",
   "id": "74a67f2d-050d-42c4-bde1-3774ebf1d8a1",
   "metadata": {},
   "source": [
    "### País\n",
    "Na falta de informações específicas, como os clientes são brasileiros e os estados são brasileiros, será 'Brasil'"
   ]
  },
  {
   "cell_type": "code",
   "execution_count": 33,
   "id": "e89b09a5-4e73-4aac-b059-e482c185a174",
   "metadata": {},
   "outputs": [],
   "source": [
    "df['País'] = 'Brasil'"
   ]
  },
  {
   "cell_type": "markdown",
   "id": "a13ae916-ff6e-4843-ac3c-60cf00fd7fd8",
   "metadata": {},
   "source": [
    "### Estado"
   ]
  },
  {
   "cell_type": "markdown",
   "id": "955479b9-5e25-4f56-b133-49f4a30a181d",
   "metadata": {},
   "source": [
    "Retornar apenas a sigla da Unidade Federativa"
   ]
  },
  {
   "cell_type": "code",
   "execution_count": 34,
   "id": "6d860c92-77f6-4926-9c0c-d2d5ab56aa67",
   "metadata": {},
   "outputs": [
    {
     "name": "stdout",
     "output_type": "stream",
     "text": [
      "['SC' 'Sc' 'PR' None]\n"
     ]
    }
   ],
   "source": [
    "print(df['uf'].unique())"
   ]
  },
  {
   "cell_type": "code",
   "execution_count": 35,
   "id": "2e8ad55a-705f-4cd2-8065-64d0dc39a0f8",
   "metadata": {},
   "outputs": [
    {
     "name": "stdout",
     "output_type": "stream",
     "text": [
      "['SC' 'PR' None]\n"
     ]
    }
   ],
   "source": [
    "df['uf'] = df['uf'].str.upper()\n",
    "print(df['uf'].unique())"
   ]
  },
  {
   "cell_type": "code",
   "execution_count": 36,
   "id": "fafa08aa-f253-417d-809b-fc1d1b47e4b8",
   "metadata": {},
   "outputs": [],
   "source": [
    "df = df.rename(columns={'uf': 'Estado'})"
   ]
  },
  {
   "cell_type": "markdown",
   "id": "3d992377-db91-4165-bc28-3aa86573b36e",
   "metadata": {},
   "source": [
    "### Cidade\n",
    "Manter como está.\n",
    "### Bairro\n",
    "Manter como está.\n",
    "### Endereço\n",
    "Manter como está.\n",
    "### CEP\n",
    "Formatar em 8 dígitos. Colocar 0 na frente se necessário."
   ]
  },
  {
   "cell_type": "code",
   "execution_count": 37,
   "id": "ea3d6594-a04e-4813-8d23-33d196b046c5",
   "metadata": {},
   "outputs": [
    {
     "name": "stdout",
     "output_type": "stream",
     "text": [
      "8:500\n"
     ]
    }
   ],
   "source": [
    "print(contar_algarismos_por_entrada(df, 'cep'))"
   ]
  },
  {
   "cell_type": "markdown",
   "id": "78ae34c8-b6b8-4971-9827-66034a6c841b",
   "metadata": {},
   "source": [
    "Todas as entradas possuem apenas 8 dígitos."
   ]
  },
  {
   "cell_type": "code",
   "execution_count": 38,
   "id": "9c1f6afb-1230-4944-98a7-d0a8d83ff2a6",
   "metadata": {},
   "outputs": [],
   "source": [
    "df['cep'] = df['cep'].str.replace(r'\\D', '', regex=True)"
   ]
  },
  {
   "cell_type": "markdown",
   "id": "12ad572d-bb64-4b41-bd76-9328b416128b",
   "metadata": {},
   "source": [
    "### PIS/PASEP\n",
    "Instruções dizem para retornar valor na máscara 000.0000.000-0."
   ]
  },
  {
   "cell_type": "code",
   "execution_count": 39,
   "id": "a2745bc0-85b4-4a4d-a333-a20c373e7640",
   "metadata": {},
   "outputs": [],
   "source": [
    "df['PIS'] = df['pis'].apply(lambda x: f\"{str(x).zfill(11)[:3]}.{str(x).zfill(11)[3:7]}.{str(x).zfill(11)[7:10]}-{str(x).zfill(11)[10]}\" if x else None)"
   ]
  },
  {
   "cell_type": "markdown",
   "id": "4e958868-1252-4c9c-8eaa-b03c66921b7b",
   "metadata": {},
   "source": [
    "### CTPS\n",
    "Deverá ser mantida como está, porém essa informação não existe na tabela_clientes, logo permanecerá zerada."
   ]
  },
  {
   "cell_type": "markdown",
   "id": "f45c7823-d383-4995-8379-3dcf163c931f",
   "metadata": {},
   "source": [
    "### CID\n",
    "Deverá ser mantida como está, porém essa informação não existe na tabela_clientes, logo permanecerá zerada."
   ]
  },
  {
   "cell_type": "markdown",
   "id": "c8e76073-ce13-482e-a668-ace16fcb0492",
   "metadata": {},
   "source": [
    "### Nome da mãe\n",
    "Manter como está."
   ]
  },
  {
   "cell_type": "markdown",
   "id": "4c341629-6309-4b75-b64d-0c3d6532da1b",
   "metadata": {},
   "source": [
    "### Origem do cliente\n",
    "Não há informações sobre a origem na planilha, todos serão marcados como MIGRAÇÃO conforme instruções."
   ]
  },
  {
   "cell_type": "code",
   "execution_count": 40,
   "id": "9c5b8a26-12bc-45e0-95f9-74e7309f7eef",
   "metadata": {},
   "outputs": [],
   "source": [
    "df['origemCliente'] = 'MIGRAÇÃO'"
   ]
  },
  {
   "cell_type": "markdown",
   "id": "9d4f7ea0-d012-4c24-8843-b5a880664048",
   "metadata": {},
   "source": [
    "### Anotações gerais\n",
    "\n",
    "Irá conter CPF e CNPJ, se inválidos, e e-mail extra, se houver."
   ]
  },
  {
   "cell_type": "code",
   "execution_count": 41,
   "id": "24396495-3435-430f-b9d0-449e76eb9beb",
   "metadata": {},
   "outputs": [],
   "source": [
    "df['infoGeral'] = df.apply(lambda row: \n",
    "    (f\"CPF ou CNPJ do cliente é inválido: {row['CPFCNPJ_invalido']} | Email adicional do cliente: {row['email_extra']}\" \n",
    "     if row['CPFCNPJ_invalido'] and row['email_extra'] \n",
    "     else f\"CPF ou CNPJ do cliente é inválido: {row['CPFCNPJ_invalido']}\" \n",
    "     if row['CPFCNPJ_invalido'] \n",
    "     else f\"Email adicional do cliente: {row['email_extra']}\" \n",
    "     if row['email_extra'] \n",
    "     else None), axis=1)"
   ]
  },
  {
   "cell_type": "markdown",
   "id": "93485b0d-d3d8-420d-81be-f97daf3f608b",
   "metadata": {},
   "source": [
    "### Preparação da tabela nova"
   ]
  },
  {
   "cell_type": "code",
   "execution_count": 42,
   "id": "a14d0b86-3daa-434a-8ccf-05db7960a8f5",
   "metadata": {},
   "outputs": [
    {
     "name": "stdout",
     "output_type": "stream",
     "text": [
      "Index(['nomeCliente', 'cpfcnpj', 'rg', 'nacionalidade', 'dataDeNascimento',\n",
      "       'estadoCivil', 'profissao', 'sexo', 'celular', 'telefone', 'email',\n",
      "       'pais', 'estado', 'cidade', 'bairro', 'endereco', 'cep', 'pispasep',\n",
      "       'ctps', 'cid', 'nomemae', 'origem', 'anotacoesGerais'],\n",
      "      dtype='object')\n"
     ]
    }
   ],
   "source": [
    "print(df_clientes.columns)"
   ]
  },
  {
   "cell_type": "code",
   "execution_count": 43,
   "id": "d0599373-89b1-4930-aa2e-fe3b42dda191",
   "metadata": {},
   "outputs": [],
   "source": [
    "df_clientes['nomeCliente'] = df['razao_social']\n",
    "df_clientes['cpfcnpj'] = df['CPFCNPJ']\n",
    "df_clientes['rg'] = df['rg']\n",
    "df_clientes['nacionalidade'] = df['nacionalidade']\n",
    "df_clientes['dataDeNascimento']=df['nascimento']\n",
    "df_clientes['estadoCivil']=df['estado_civil']\n",
    "df_clientes['profissao']=df['profissao']\n",
    "df_clientes['celular']=df['celular']\n",
    "df_clientes['telefone']=df['telefone']\n",
    "df_clientes['email'] = df['email']\n",
    "df_clientes['pais'] = 'Brasil'\n",
    "df_clientes['estado'] = df['Estado']\n",
    "df_clientes['cidade'] = df['cidade']\n",
    "df_clientes['bairro'] = df['bairro']\n",
    "df_clientes['endereco'] = df['logradouro']\n",
    "df_clientes['cep'] = df['cep']\n",
    "df_clientes['pispasep'] = df['PIS']\n",
    "df_clientes['nomemae'] = df['nome_mae']\n",
    "df_clientes['origem'] = 'MIGRAÇÃO'\n",
    "df_clientes['anotacoesGerais'] = df['infoGeral']"
   ]
  },
  {
   "cell_type": "code",
   "execution_count": 44,
   "id": "0a9d3b50-46a7-4215-a6c7-1329fa8fb034",
   "metadata": {},
   "outputs": [
    {
     "data": {
      "text/html": [
       "<div>\n",
       "<style scoped>\n",
       "    .dataframe tbody tr th:only-of-type {\n",
       "        vertical-align: middle;\n",
       "    }\n",
       "\n",
       "    .dataframe tbody tr th {\n",
       "        vertical-align: top;\n",
       "    }\n",
       "\n",
       "    .dataframe thead th {\n",
       "        text-align: right;\n",
       "    }\n",
       "</style>\n",
       "<table border=\"1\" class=\"dataframe\">\n",
       "  <thead>\n",
       "    <tr style=\"text-align: right;\">\n",
       "      <th></th>\n",
       "      <th>nomeCliente</th>\n",
       "      <th>cpfcnpj</th>\n",
       "      <th>rg</th>\n",
       "      <th>nacionalidade</th>\n",
       "      <th>dataDeNascimento</th>\n",
       "      <th>estadoCivil</th>\n",
       "      <th>profissao</th>\n",
       "      <th>sexo</th>\n",
       "      <th>celular</th>\n",
       "      <th>telefone</th>\n",
       "      <th>...</th>\n",
       "      <th>cidade</th>\n",
       "      <th>bairro</th>\n",
       "      <th>endereco</th>\n",
       "      <th>cep</th>\n",
       "      <th>pispasep</th>\n",
       "      <th>ctps</th>\n",
       "      <th>cid</th>\n",
       "      <th>nomemae</th>\n",
       "      <th>origem</th>\n",
       "      <th>anotacoesGerais</th>\n",
       "    </tr>\n",
       "  </thead>\n",
       "  <tbody>\n",
       "    <tr>\n",
       "      <th>0</th>\n",
       "      <td>Fulano(a) 1</td>\n",
       "      <td>None</td>\n",
       "      <td>UF 1.234.567</td>\n",
       "      <td>Brasileira</td>\n",
       "      <td>27/02/1957</td>\n",
       "      <td>None</td>\n",
       "      <td>None</td>\n",
       "      <td>None</td>\n",
       "      <td>(00) 9999-1111</td>\n",
       "      <td>None</td>\n",
       "      <td>...</td>\n",
       "      <td>Floripa</td>\n",
       "      <td>Centro</td>\n",
       "      <td>Rua dos Candidatos, Escola Advbox, n 1</td>\n",
       "      <td>12345600</td>\n",
       "      <td>None</td>\n",
       "      <td>None</td>\n",
       "      <td>None</td>\n",
       "      <td>Maria 1</td>\n",
       "      <td>MIGRAÇÃO</td>\n",
       "      <td>CPF ou CNPJ do cliente é inválido: 12345678900</td>\n",
       "    </tr>\n",
       "    <tr>\n",
       "      <th>1</th>\n",
       "      <td>Fulano(a) 2</td>\n",
       "      <td>None</td>\n",
       "      <td>12.123.123-0</td>\n",
       "      <td>Brasileira</td>\n",
       "      <td>13/01/1966</td>\n",
       "      <td>CA</td>\n",
       "      <td>None</td>\n",
       "      <td>None</td>\n",
       "      <td>(00) 9999-1112</td>\n",
       "      <td>None</td>\n",
       "      <td>...</td>\n",
       "      <td>Florianopolis</td>\n",
       "      <td>Centro</td>\n",
       "      <td>Rua dos Candidatos, Escola Advbox, n 2</td>\n",
       "      <td>12345601</td>\n",
       "      <td>None</td>\n",
       "      <td>None</td>\n",
       "      <td>None</td>\n",
       "      <td>Maria 2</td>\n",
       "      <td>MIGRAÇÃO</td>\n",
       "      <td>CPF ou CNPJ do cliente é inválido: 12345678901</td>\n",
       "    </tr>\n",
       "    <tr>\n",
       "      <th>2</th>\n",
       "      <td>Fulano(a) 3</td>\n",
       "      <td>None</td>\n",
       "      <td>12.123.123-1</td>\n",
       "      <td>Brasileira</td>\n",
       "      <td>10/05/1982</td>\n",
       "      <td>CA</td>\n",
       "      <td>Empres√°rio</td>\n",
       "      <td>None</td>\n",
       "      <td>(00) 9999-1113</td>\n",
       "      <td>(00) 1234-4567</td>\n",
       "      <td>...</td>\n",
       "      <td>Florianopolis</td>\n",
       "      <td>Centro</td>\n",
       "      <td>Rua dos Candidatos, Escola Advbox, n 3</td>\n",
       "      <td>12345602</td>\n",
       "      <td>123.4567.891-0</td>\n",
       "      <td>None</td>\n",
       "      <td>None</td>\n",
       "      <td>Maria 3</td>\n",
       "      <td>MIGRAÇÃO</td>\n",
       "      <td>CPF ou CNPJ do cliente é inválido: 12345678902...</td>\n",
       "    </tr>\n",
       "    <tr>\n",
       "      <th>3</th>\n",
       "      <td>Fulano(a) 4</td>\n",
       "      <td>None</td>\n",
       "      <td>12.123.123-2</td>\n",
       "      <td>Brasileira</td>\n",
       "      <td>01/01/1956</td>\n",
       "      <td>CA</td>\n",
       "      <td>Auxiliar de Servi√ßos Gerais</td>\n",
       "      <td>None</td>\n",
       "      <td>(00) 9999-1114</td>\n",
       "      <td>(00) 1234-4568</td>\n",
       "      <td>...</td>\n",
       "      <td>Florianopolis</td>\n",
       "      <td>Centro</td>\n",
       "      <td>Rua dos Candidatos, Escola Advbox, n 4</td>\n",
       "      <td>12345603</td>\n",
       "      <td>123.4567.891-1</td>\n",
       "      <td>None</td>\n",
       "      <td>None</td>\n",
       "      <td>Maria 4</td>\n",
       "      <td>MIGRAÇÃO</td>\n",
       "      <td>CPF ou CNPJ do cliente é inválido: 12345678903</td>\n",
       "    </tr>\n",
       "    <tr>\n",
       "      <th>4</th>\n",
       "      <td>Fulano(a) 5</td>\n",
       "      <td>None</td>\n",
       "      <td>12.123.123-3</td>\n",
       "      <td>Brasileira</td>\n",
       "      <td>14/04/1963</td>\n",
       "      <td>CA</td>\n",
       "      <td>Industri√°rio</td>\n",
       "      <td>None</td>\n",
       "      <td>(00) 9999-1115</td>\n",
       "      <td>(00) 1234-4569</td>\n",
       "      <td>...</td>\n",
       "      <td>Floripa</td>\n",
       "      <td>Centro</td>\n",
       "      <td>Rua dos Candidatos, Escola Advbox, n 5</td>\n",
       "      <td>12345604</td>\n",
       "      <td>123.4567.891-2</td>\n",
       "      <td>None</td>\n",
       "      <td>None</td>\n",
       "      <td>Maria 5</td>\n",
       "      <td>MIGRAÇÃO</td>\n",
       "      <td>CPF ou CNPJ do cliente é inválido: 12345678904</td>\n",
       "    </tr>\n",
       "  </tbody>\n",
       "</table>\n",
       "<p>5 rows × 23 columns</p>\n",
       "</div>"
      ],
      "text/plain": [
       "   nomeCliente cpfcnpj            rg nacionalidade dataDeNascimento  \\\n",
       "0  Fulano(a) 1    None  UF 1.234.567    Brasileira       27/02/1957   \n",
       "1  Fulano(a) 2    None  12.123.123-0    Brasileira       13/01/1966   \n",
       "2  Fulano(a) 3    None  12.123.123-1    Brasileira       10/05/1982   \n",
       "3  Fulano(a) 4    None  12.123.123-2    Brasileira       01/01/1956   \n",
       "4  Fulano(a) 5    None  12.123.123-3    Brasileira       14/04/1963   \n",
       "\n",
       "  estadoCivil                     profissao  sexo         celular  \\\n",
       "0        None                          None  None  (00) 9999-1111   \n",
       "1          CA                          None  None  (00) 9999-1112   \n",
       "2          CA                   Empres√°rio  None  (00) 9999-1113   \n",
       "3          CA  Auxiliar de Servi√ßos Gerais  None  (00) 9999-1114   \n",
       "4          CA                 Industri√°rio  None  (00) 9999-1115   \n",
       "\n",
       "         telefone  ...         cidade  bairro  \\\n",
       "0            None  ...        Floripa  Centro   \n",
       "1            None  ...  Florianopolis  Centro   \n",
       "2  (00) 1234-4567  ...  Florianopolis  Centro   \n",
       "3  (00) 1234-4568  ...  Florianopolis  Centro   \n",
       "4  (00) 1234-4569  ...        Floripa  Centro   \n",
       "\n",
       "                                 endereco       cep        pispasep  ctps  \\\n",
       "0  Rua dos Candidatos, Escola Advbox, n 1  12345600            None  None   \n",
       "1  Rua dos Candidatos, Escola Advbox, n 2  12345601            None  None   \n",
       "2  Rua dos Candidatos, Escola Advbox, n 3  12345602  123.4567.891-0  None   \n",
       "3  Rua dos Candidatos, Escola Advbox, n 4  12345603  123.4567.891-1  None   \n",
       "4  Rua dos Candidatos, Escola Advbox, n 5  12345604  123.4567.891-2  None   \n",
       "\n",
       "    cid  nomemae    origem                                    anotacoesGerais  \n",
       "0  None  Maria 1  MIGRAÇÃO     CPF ou CNPJ do cliente é inválido: 12345678900  \n",
       "1  None  Maria 2  MIGRAÇÃO     CPF ou CNPJ do cliente é inválido: 12345678901  \n",
       "2  None  Maria 3  MIGRAÇÃO  CPF ou CNPJ do cliente é inválido: 12345678902...  \n",
       "3  None  Maria 4  MIGRAÇÃO     CPF ou CNPJ do cliente é inválido: 12345678903  \n",
       "4  None  Maria 5  MIGRAÇÃO     CPF ou CNPJ do cliente é inválido: 12345678904  \n",
       "\n",
       "[5 rows x 23 columns]"
      ]
     },
     "execution_count": 44,
     "metadata": {},
     "output_type": "execute_result"
    }
   ],
   "source": [
    "df_clientes.replace({np.nan: None},inplace=True)\n",
    "df_clientes.head()"
   ]
  },
  {
   "cell_type": "code",
   "execution_count": 45,
   "id": "33c2164f-5488-4a03-9088-bf4c10508990",
   "metadata": {},
   "outputs": [],
   "source": [
    "df_clientes = df_clientes.rename(columns={\n",
    "    'nomeCliente': 'NOME',\n",
    "    'cpfcnpj': 'CPF CNPJ',\n",
    "    'rg': 'RG',\n",
    "    'nacionalidade': 'NACIONALIDADE',\n",
    "    'dataDeNascimento': 'DATA DE NASCIMENTO',\n",
    "    'estadoCivil': 'ESTADO CIVIL',\n",
    "    'profissao': 'PROFISSÃO',\n",
    "    'sexo': 'SEXO',\n",
    "    'celular': 'CELULAR',\n",
    "    'telefone': 'TELEFONE',\n",
    "    'email': 'EMAIL',\n",
    "    'pais': 'PAÍS',\n",
    "    'estado': 'ESTADO',\n",
    "    'cidade': 'CIDADE',\n",
    "    'bairro': 'BAIRRO',\n",
    "    'endereco': 'ENDEREÇO',\n",
    "    'cep': 'CEP',\n",
    "    'pispasep': 'PIS PASEP',\n",
    "    'ctps':'CTPS',\n",
    "    'cid':'CID',\n",
    "    'nomemae':'NOMEMAE',\n",
    "    'origem':'ORIGEM DO CLIENTE',\n",
    "    'anotacoesGerais':'ANOTAÇÕES GERAIS'\n",
    "    })\n"
   ]
  },
  {
   "cell_type": "code",
   "execution_count": 46,
   "id": "ae36253c-2440-43ce-9829-e1697b145ac9",
   "metadata": {},
   "outputs": [],
   "source": [
    "df_clientes.to_excel('CLIENTES.xlsx', index=False)"
   ]
  }
 ],
 "metadata": {
  "kernelspec": {
   "display_name": "Python 3 (ipykernel)",
   "language": "python",
   "name": "python3"
  },
  "language_info": {
   "codemirror_mode": {
    "name": "ipython",
    "version": 3
   },
   "file_extension": ".py",
   "mimetype": "text/x-python",
   "name": "python",
   "nbconvert_exporter": "python",
   "pygments_lexer": "ipython3",
   "version": "3.11.5"
  }
 },
 "nbformat": 4,
 "nbformat_minor": 5
}
